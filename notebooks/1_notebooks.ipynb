{
 "cells": [
  {
   "cell_type": "markdown",
   "source": [
    "## Use a notebook\n",
    "\n",
    "All our work will happen inside a *notebook*, a file that contains a mix of :\n",
    "\n",
    "- text formatted in [Markdown](https://guides.github.com/features/mastering-markdown/), and\n",
    "- code in [Python](https://www.python.org/) that is (meant to be) executed.\n",
    "\n",
    "More precisely, a notebook consists in a sequence of *cells*, where each cell contains either (Markdown) text or (Python) code."
   ],
   "metadata": {}
  },
  {
   "cell_type": "markdown",
   "source": [
    "\n",
    "You can edit any text cell and render it."
   ],
   "metadata": {}
  },
  {
   "cell_type": "markdown",
   "source": [
    "*insert a text cell*"
   ],
   "metadata": {}
  },
  {
   "cell_type": "markdown",
   "source": [
    "You can edit any code cell and execute it.\n",
    "If the executed code produces a printable output, it will appear below the cell."
   ],
   "metadata": {}
  },
  {
   "cell_type": "markdown",
   "source": [
    "*insert a code cell*"
   ],
   "metadata": {}
  },
  {
   "cell_type": "markdown",
   "source": [
    "\n",
    "A notebook can be rendered once for all and published as a static webpage, but it is primarily meant to be used in an interactive manner.\n"
   ],
   "metadata": {}
  },
  {
   "cell_type": "markdown",
   "source": [],
   "metadata": {}
  },
  {
   "cell_type": "markdown",
   "source": [],
   "metadata": {}
  }
 ],
 "metadata": {
  "orig_nbformat": 4,
  "language_info": {
   "name": "python",
   "version": "3.7.10"
  },
  "kernelspec": {
   "name": "python3",
   "display_name": "Python 3.7.10 64-bit ('scpo-bootcamp': conda)"
  },
  "interpreter": {
   "hash": "67c217cb44a4c7e1aee5e5dab73f2dc17457b90fcf219f4075fac62127fe9571"
  }
 },
 "nbformat": 4,
 "nbformat_minor": 2
}