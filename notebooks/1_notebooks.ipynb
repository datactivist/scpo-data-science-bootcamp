{
 "cells": [
  {
   "cell_type": "markdown",
   "source": [
    "### Note on how to change the language on Google Colaboratory\n",
    "Google Colaboratory uses the default language settings from your web browser.\n",
    "If the menus are displayed in a different language, you can switch to English by going to (the (equivalent of) the \"Help\" menu, then clicking on (the translation of) the item \"Display in English\".\n",
    "\n",
    "Having the interface in English will ensure you can easily follow the instructions and advice in these notebooks."
   ],
   "metadata": {}
  },
  {
   "cell_type": "markdown",
   "source": [
    "## Use a notebook\n",
    "\n",
    "All our work will happen inside a *notebook*, a file that contains a mix of :\n",
    "\n",
    "- text formatted in [Markdown](https://guides.github.com/features/mastering-markdown/), and\n",
    "- code in [Python](https://www.python.org/) that is (meant to be) executed.\n",
    "\n",
    "More precisely, a notebook consists in a sequence of *cells*, where each cell contains either (Markdown) text or (Python) code."
   ],
   "metadata": {}
  },
  {
   "cell_type": "markdown",
   "source": [
    "\n",
    "You can edit any text cell and render it."
   ],
   "metadata": {}
  },
  {
   "cell_type": "markdown",
   "source": [
    "*insert a text cell*"
   ],
   "metadata": {}
  },
  {
   "cell_type": "markdown",
   "source": [
    "You can edit any code cell and execute it.\n",
    "If the executed code produces a printable output, it will appear below the cell."
   ],
   "metadata": {}
  },
  {
   "cell_type": "markdown",
   "source": [
    "*insert a code cell*"
   ],
   "metadata": {}
  },
  {
   "cell_type": "markdown",
   "source": [
    "\n",
    "A notebook can be rendered once for all and published as a static webpage, but it is primarily meant to be used in an interactive manner.\n"
   ],
   "metadata": {}
  },
  {
   "cell_type": "markdown",
   "source": [
    "You can execute code cells because a *Python kernel* is running in the background, waiting for execution orders.\n",
    "The Python kernel holds a *state*: It stores the variables you have declared and their current value, the packages you have imported, etc."
   ],
   "metadata": {}
  },
  {
   "cell_type": "markdown",
   "source": [
    "### Note on the state of the python kernel\n",
    "This state provides you with flexibility, as it enables you to edit any previous cell and re-execute it.\n",
    "This is very convenient while you write code and fix mistakes or try different approaches, especially when you can avoid re-executing previous cells at the beginning of your notebook, eg. to load data, which can take a while.\n",
    "But this flexibility comes at a cost, because it also means that, when you edit and re-execute a cell, you can end up in a state that is different from what a linear execution of your notebook cells would produce.\n",
    "\n",
    "In this class, we advise you to use the \"Execute All\" button in the \"Execute\" menu."
   ],
   "metadata": {}
  },
  {
   "cell_type": "markdown",
   "source": [
    "## To go further\n",
    "\n",
    "For the most technically inclined / experienced :\n",
    "* On the shortcomings and pitfalls of notebooks: Joel Grus (Allen Institute for Artificial Intelligence) - [I don't like notebooks](https://www.youtube.com/watch?v=7jiPeIFXb6U)\n",
    "* Jeremy Howard (Fast.ai) - [I like notebooks](https://www.youtube.com/watch?v=9Q6sLbz37gk)\n"
   ],
   "metadata": {}
  }
 ],
 "metadata": {
  "orig_nbformat": 4,
  "language_info": {
   "name": "python",
   "version": "3.7.10"
  },
  "kernelspec": {
   "name": "python3",
   "display_name": "Python 3.7.10 64-bit ('scpo-bootcamp': conda)"
  },
  "interpreter": {
   "hash": "67c217cb44a4c7e1aee5e5dab73f2dc17457b90fcf219f4075fac62127fe9571"
  }
 },
 "nbformat": 4,
 "nbformat_minor": 2
}