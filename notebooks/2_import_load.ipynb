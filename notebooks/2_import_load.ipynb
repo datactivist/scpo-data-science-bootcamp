{
 "cells": [
  {
   "cell_type": "markdown",
   "source": [
    "# Tabular data analysis 1 : Loading Open Food Facts data with pandas\n",
    "\n",
    "In this series of notebooks, we are going to explore the data contained in the OpenFoodFacts database."
   ],
   "metadata": {}
  },
  {
   "cell_type": "markdown",
   "source": [
    "## OpenFoodFacts\n",
    "\n",
    "OpenFoodFacts is an open, crowdsourced database on food products from around the world.\n",
    "\n",
    "It is produced and managed as a digital commons.\n",
    "\n",
    "Everyone can contribute data on packaged food products: pictures, ingredients, nutritional values etc.\n",
    "\n",
    "This database has served as the foundation for many mobile phone apps, especially scanning apps to help customers while grocery shopping."
   ],
   "metadata": {}
  },
  {
   "cell_type": "markdown",
   "source": [
    "### Notions\n",
    "\n",
    "* It is [*open*](https://en.wikipedia.org/wiki/Open_data): Anyone can freely use it, access it, modify it.\n",
    "* It is [*crowdsourced*](https://en.wikipedia.org/wiki/Crowdsourcing) : Anyone can add new food products to the database, complete or modify existing data.\n",
    "* It is a [knowledge commons](https://en.wikipedia.org/wiki/Knowledge_commons), a type of [digital commons](https://en.wikipedia.org/wiki/Digital_commons_(economics))."
   ],
   "metadata": {}
  },
  {
   "cell_type": "markdown",
   "source": [
    "The OpenFoodFacts database is [available online](https://world.openfoodfacts.org/).\n",
    "\n",
    "Take a few minutes to explore the database through its online interface.\n",
    "\n",
    "* How is each product described ?\n",
    "* What types of information are provided ?\n",
    "* How complete is the information ?\n",
    "* Is the information up-to-date ?"
   ],
   "metadata": {}
  },
  {
   "cell_type": "markdown",
   "source": [
    "### OpenFoodFacts as a tabular dataset\n",
    "\n",
    "The entire set of facts about all the products in the OpenFoodFacts database can be represented as a *tabular dataset*, that is a table of data where :\n",
    "\n",
    "* each row is a product,\n",
    "* each column is a field (eg. \"brand\", \"barcode\", \"energy for 100g\"...),\n",
    "* each cell contains the value of a field for a product.\n",
    "\n",
    "The simplest and most common format used for tabular datasets is the [CSV format](https://en.wikipedia.org/wiki/Comma-separated_values).\n",
    "CSV files can be opened in a spreadsheet software such as Microsoft Excel, Apple Numbers or LibreOffice Calc, or just any plain text editor.\n",
    "\n",
    "The OpenFoodFacts database is [available for download in various formats](https://world.openfoodfacts.org/data), including the CSV format, but because the whole database is too big (more than 4 GB as of 2021-08-16), we will work on a filtered version of this CSV file (more on that below)."
   ],
   "metadata": {}
  },
  {
   "cell_type": "markdown",
   "source": [
    "## The pandas library for tabular data analysis\n",
    "\n",
    "### Gaining functionalities with libraries\n",
    "\n",
    "The Python standard library (**TODO introduce the notion of standard library in notebook 1**) includes a module named `csv` that provides very basic support to read and write CSV files.\n",
    "This module enables you to read and write values, but nothing more.\n",
    "\n",
    "It gives you no way to :\n",
    "\n",
    "* rename columns ;\n",
    "* filter columns, eg. keep only the columns for nutritional values ;\n",
    "* filter rows, eg. select all products that are categorized as \"Sweet spreads\" ;\n",
    "* compute summary statistics on columns across rows, eg. compute the min, max, mean and median of fiber content per 100g ;\n",
    "* compare columns, eg. test whether they contain the same values ;\n",
    "* etc.\n",
    "\n",
    "This can be remedied by using an additional [software library](https://en.wikipedia.org/wiki/Library_(computing)), which is, roughly speaking, a collection of code that provides functionalities to perform operations on a given task or domain.\n",
    "You might have heard, or will hear about, libraries dedicated to machine learning such as [scikit-learn](https://en.wikipedia.org/wiki/Scikit-learn) or Google's [TensorFlow](https://en.wikipedia.org/wiki/TensorFlow) to build neural networks.\n",
    "\n",
    "The most widely used library in Python to work on tabular datasets is [pandas](https://pandas.pydata.org/)."
   ],
   "metadata": {}
  },
  {
   "cell_type": "markdown",
   "source": [
    "### Importing a library\n",
    "\n",
    "In order to use a library, you need to (1) install it and (2) import it.\n",
    "\n",
    "Because the pandas library is already installed in Google Colaboratory, here you only need to import it by executing the following cell."
   ],
   "metadata": {}
  },
  {
   "cell_type": "code",
   "execution_count": 1,
   "source": [
    "import pandas as pd"
   ],
   "outputs": [],
   "metadata": {}
  },
  {
   "cell_type": "markdown",
   "source": [
    "We imported the pandas library and assigned it to a new namespace, `pd`.\n",
    "\n",
    "In order to use a pandas function such as [`read_csv`](https://pandas.pydata.org/pandas-docs/stable/reference/api/pandas.read_csv.html), you therefore need to prefix it with `pd.`, for example\n",
    "\n",
    "`df = pd.read_csv(\"myfile.csv\")`."
   ],
   "metadata": {}
  },
  {
   "cell_type": "markdown",
   "source": [
    "\n",
    "Namespaces enable to avoid possible name conflicts between functions in the pandas library and the standard python library, eg. `sum` or `mean`.\n",
    "By default, the namespace of an imported library is named after its root module, here `pandas`.\n",
    "The `import ... as ...` syntax enables to define a shorter name for a namespace and type the shorter `pd` rather than `pandas` every time.\n",
    "\n",
    "If you read notebooks that use other libraries, you will notice recurring naming conventions for some libraries :\n",
    "\n",
    "* `import numpy as np`\n",
    "* `import seaborn as sns`\n",
    "* `import matplotlib.pyplot as plt`\n",
    "* etc."
   ],
   "metadata": {}
  },
  {
   "cell_type": "code",
   "execution_count": null,
   "source": [],
   "outputs": [],
   "metadata": {}
  },
  {
   "cell_type": "markdown",
   "source": [
    "## To go further\n",
    "\n",
    "* The [csv module of the Python standard library](https://docs.python.org/3.7/library/csv.html)\n",
    "* [Python packages](https://docs.python.org/3.7/tutorial/modules.html#packages) and the dot notation"
   ],
   "metadata": {}
  }
 ],
 "metadata": {
  "orig_nbformat": 4,
  "language_info": {
   "name": "python",
   "version": "3.7.10",
   "mimetype": "text/x-python",
   "codemirror_mode": {
    "name": "ipython",
    "version": 3
   },
   "pygments_lexer": "ipython3",
   "nbconvert_exporter": "python",
   "file_extension": ".py"
  },
  "kernelspec": {
   "name": "python3",
   "display_name": "Python 3.7.10 64-bit ('scpo-bootcamp': conda)"
  },
  "interpreter": {
   "hash": "67c217cb44a4c7e1aee5e5dab73f2dc17457b90fcf219f4075fac62127fe9571"
  }
 },
 "nbformat": 4,
 "nbformat_minor": 2
}